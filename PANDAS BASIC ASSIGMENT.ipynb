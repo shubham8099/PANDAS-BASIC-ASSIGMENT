{
 "cells": [
  {
   "cell_type": "code",
   "execution_count": 1,
   "id": "26547205-cac2-4a6a-af7f-5408009d5ae0",
   "metadata": {},
   "outputs": [],
   "source": [
    "# jai maa saraswati "
   ]
  },
  {
   "cell_type": "code",
   "execution_count": 2,
   "id": "bd5e6dd9-50db-46e7-a73b-80fa1679cc83",
   "metadata": {},
   "outputs": [],
   "source": [
    "import pandas as pd"
   ]
  },
  {
   "cell_type": "code",
   "execution_count": 3,
   "id": "6f290534-b3d2-41d2-912f-b64e830812a5",
   "metadata": {},
   "outputs": [
    {
     "name": "stdout",
     "output_type": "stream",
     "text": [
      "Requirement already satisfied: pandas in /opt/conda/lib/python3.10/site-packages (1.5.2)\n",
      "Requirement already satisfied: python-dateutil>=2.8.1 in /opt/conda/lib/python3.10/site-packages (from pandas) (2.8.2)\n",
      "Requirement already satisfied: pytz>=2020.1 in /opt/conda/lib/python3.10/site-packages (from pandas) (2022.6)\n",
      "Requirement already satisfied: numpy>=1.21.0 in /opt/conda/lib/python3.10/site-packages (from pandas) (1.23.5)\n",
      "Requirement already satisfied: six>=1.5 in /opt/conda/lib/python3.10/site-packages (from python-dateutil>=2.8.1->pandas) (1.16.0)\n",
      "Note: you may need to restart the kernel to use updated packages.\n"
     ]
    }
   ],
   "source": [
    "pip install pandas"
   ]
  },
  {
   "cell_type": "markdown",
   "id": "6edcebab-b9fa-40d1-816c-5577a616909f",
   "metadata": {},
   "source": [
    "Q1. Create a Pandas Series that contains the following data: 4, 8, 15, 16, 23, and 42. Then, print the series."
   ]
  },
  {
   "cell_type": "code",
   "execution_count": 4,
   "id": "4571316a-d740-4cfb-a7f4-520988835c28",
   "metadata": {},
   "outputs": [],
   "source": [
    "data = [4,8,15,16,23,42]"
   ]
  },
  {
   "cell_type": "code",
   "execution_count": 5,
   "id": "4678d63b-a8d4-4480-abba-c4ccf9dc0e34",
   "metadata": {},
   "outputs": [],
   "source": [
    "my_series = pd.Series(data)"
   ]
  },
  {
   "cell_type": "code",
   "execution_count": 6,
   "id": "c35b6a09-2fbf-4821-949f-e22786dd24ca",
   "metadata": {},
   "outputs": [
    {
     "name": "stdout",
     "output_type": "stream",
     "text": [
      "0     4\n",
      "1     8\n",
      "2    15\n",
      "3    16\n",
      "4    23\n",
      "5    42\n",
      "dtype: int64\n"
     ]
    }
   ],
   "source": [
    "print(my_series)"
   ]
  },
  {
   "cell_type": "markdown",
   "id": "56bf3e1b-dd3a-4eec-9adc-70efc76091f1",
   "metadata": {},
   "source": [
    "Q2. Create a variable of list type containing 10 elements in it, and apply pandas.Series function on the\n",
    "variable print it.\n"
   ]
  },
  {
   "cell_type": "code",
   "execution_count": 7,
   "id": "a4676406-9db8-40c5-b589-d99ba4e0dbdf",
   "metadata": {},
   "outputs": [],
   "source": [
    "data2  = [11,22,33,44,55,66,77,88,99,100]"
   ]
  },
  {
   "cell_type": "code",
   "execution_count": 8,
   "id": "2e828773-8a6a-4347-87a5-191b9d6cb997",
   "metadata": {},
   "outputs": [],
   "source": [
    "my_data = pd.Series(data)"
   ]
  },
  {
   "cell_type": "code",
   "execution_count": 9,
   "id": "407139a6-3991-4c3a-819b-db1f7fb24e5a",
   "metadata": {},
   "outputs": [
    {
     "name": "stdout",
     "output_type": "stream",
     "text": [
      "0     4\n",
      "1     8\n",
      "2    15\n",
      "3    16\n",
      "4    23\n",
      "5    42\n",
      "dtype: int64\n"
     ]
    }
   ],
   "source": [
    "print(my_data)"
   ]
  },
  {
   "cell_type": "markdown",
   "id": "1817ab73-be5d-49dd-ba7e-f1277144ee33",
   "metadata": {},
   "source": [
    "Q3. Create a Pandas DataFrame that contains the following data:\n",
    "Then, print the DataFrame."
   ]
  },
  {
   "cell_type": "code",
   "execution_count": 10,
   "id": "f322fde1-770d-4f26-8243-a6bdb878fece",
   "metadata": {},
   "outputs": [],
   "source": [
    "# let us creating the Pandas data frame ^_^ \n",
    "data = {'Name' :['Alice' , 'Bob' , 'Claire'] ,\n",
    "'Age' : [25 , 30 , 27],\n",
    "'Gender' : ['Female' , 'Male', 'Female']}"
   ]
  },
  {
   "cell_type": "code",
   "execution_count": 11,
   "id": "208ddbae-c007-422f-b329-1c88fa7b3780",
   "metadata": {},
   "outputs": [],
   "source": [
    "df = pd.DataFrame(data)"
   ]
  },
  {
   "cell_type": "code",
   "execution_count": 12,
   "id": "7a287f8b-4ec2-4a8d-b4f2-cbe8e7f1b6ec",
   "metadata": {},
   "outputs": [
    {
     "name": "stdout",
     "output_type": "stream",
     "text": [
      "     Name  Age  Gender\n",
      "0   Alice   25  Female\n",
      "1     Bob   30    Male\n",
      "2  Claire   27  Female\n"
     ]
    }
   ],
   "source": [
    "print(df)"
   ]
  },
  {
   "cell_type": "markdown",
   "id": "b2d4de79-34c5-485d-94f4-61cf2cb3cb67",
   "metadata": {},
   "source": [
    "Q4. What is ‘DataFrame’ in pandas and how is it different from pandas.series? Explain with an example"
   ]
  },
  {
   "cell_type": "markdown",
   "id": "1dc92865-6acf-4b06-a1da-9248d0f492f4",
   "metadata": {},
   "source": [
    "DATAFRAME => IN PANDAS \"DATAFRAME\" IS THE 2D TABULAR DATA STRUCTURE WHICH IS DESIGNED TO STORE AND \n",
    "             MANIPULATE THE HETROGENEOUS DATA SMIMILR LIKE SQL. IT PROVIDE THE CONVINENT WAY TO WORK\n",
    "             WITH STRUCTURED DATA . \n",
    "             \n",
    "LET US DISCUSSING THE MAJOR DIFFERENCE BETWEEN THE PANDAS.SERIES() AND PANDA.DATAFRAME()\n",
    "\n",
    "* PANDA SERIES :-\n",
    "(i) ONE-DIMENSIONAL\n",
    "(ii) HOMOGENEOUS DATA\n",
    "(iii) INDEXED\n",
    "(iv) SIMILAR TO ROW & COLUMN \n",
    "\n",
    "let us taking an example of pandas series :-"
   ]
  },
  {
   "cell_type": "code",
   "execution_count": 13,
   "id": "5340fe15-3c04-4e88-82b5-25c886abba47",
   "metadata": {},
   "outputs": [],
   "source": [
    "data3 = [12,34,5,68,90,43]"
   ]
  },
  {
   "cell_type": "code",
   "execution_count": 14,
   "id": "03bbf63b-de2b-4ae1-8574-28d931f02dff",
   "metadata": {},
   "outputs": [],
   "source": [
    "import_data2 = pd.Series(data3)"
   ]
  },
  {
   "cell_type": "code",
   "execution_count": 15,
   "id": "9dcee134-5835-4a3f-9e97-08e31c2befe0",
   "metadata": {},
   "outputs": [
    {
     "name": "stdout",
     "output_type": "stream",
     "text": [
      "0    12\n",
      "1    34\n",
      "2     5\n",
      "3    68\n",
      "4    90\n",
      "5    43\n",
      "dtype: int64\n"
     ]
    }
   ],
   "source": [
    "print(import_data2)    # this is the example of the pandas.Series "
   ]
  },
  {
   "cell_type": "markdown",
   "id": "80a799a7-eb11-4a6c-a901-c2e2bf98fe7c",
   "metadata": {},
   "source": [
    "PANDA DATAFRAME "
   ]
  },
  {
   "cell_type": "markdown",
   "id": "7b76ed98-4398-42d3-9bc0-65ad291429bb",
   "metadata": {},
   "source": [
    "* IT HAS TWO-DIMENSIONAL \n",
    "* COLUMNS IN THE DATAFRAME HAS DIFFERENT TYPES OF DATA TYPES\n",
    "* IT IS SIMILAR TO SQL-TABLE \n",
    "* IT CAN BE TOUGHT OF AS CONTAINER FOR PANDA SERIES \n",
    "\n",
    "let us Taking an example of panda Dataframe :-"
   ]
  },
  {
   "cell_type": "code",
   "execution_count": 16,
   "id": "8bba54be-30af-4caf-bb9b-9f2b4339fdcf",
   "metadata": {},
   "outputs": [],
   "source": [
    "data5 = {'Name' : ['shubham_shah' , 'ss' , 'kvs'],\n",
    "        'Age' : [17,18,19],\n",
    "        'Place' : ['sonpur' , 'space', 'milkyway']}"
   ]
  },
  {
   "cell_type": "code",
   "execution_count": 17,
   "id": "7711b2a1-00cc-4d77-a075-8bbbc989d8ec",
   "metadata": {},
   "outputs": [],
   "source": [
    "koex = pd.DataFrame(data5)"
   ]
  },
  {
   "cell_type": "code",
   "execution_count": 18,
   "id": "40c6f9c0-57d6-4e10-9543-acb2a9a55215",
   "metadata": {},
   "outputs": [
    {
     "name": "stdout",
     "output_type": "stream",
     "text": [
      "           Name  Age     Place\n",
      "0  shubham_shah   17    sonpur\n",
      "1            ss   18     space\n",
      "2           kvs   19  milkyway\n"
     ]
    }
   ],
   "source": [
    "print(koex)  # This is the example of the DataFrame "
   ]
  },
  {
   "cell_type": "markdown",
   "id": "7338c3ad-dde9-4a56-bd90-b618bab7712e",
   "metadata": {},
   "source": [
    "Q5. What are some common functions you can use to manipulate data in a Pandas DataFrame? Can\n",
    "you give an example of when you might use one of these functions?"
   ]
  },
  {
   "cell_type": "markdown",
   "id": "b32f4aa3-df34-49c5-86c9-96b0cbc99cde",
   "metadata": {},
   "source": [
    "ANSWER => WE ARE USING SO MANY FUNCTIONS IN THE PANDAS DATAFRAME JUST LIKE - CREATION OF DATA FRAME , \n",
    "          READING & WRITING DATA , VIEWING AND INSPECTION OF DATA , SORTING DATA , CLEARING DATA .\n",
    "          \n",
    "          \n",
    "LET US TAKING AN EXAMPLE TO SHOW THESE FUNCTIONS :-          "
   ]
  },
  {
   "cell_type": "markdown",
   "id": "7d3761e0-d673-42d1-a339-dc53d1824f5c",
   "metadata": {},
   "source": [
    "from the above example of koex show the function of creating the DataFrame let us taking an another example"
   ]
  },
  {
   "cell_type": "code",
   "execution_count": 19,
   "id": "62474f6b-977c-434c-bcab-6bf7e99f0db9",
   "metadata": {},
   "outputs": [],
   "source": [
    "df = pd.read_excel(\"Financial Sample.xlsx\")"
   ]
  },
  {
   "cell_type": "code",
   "execution_count": 20,
   "id": "dc7d423c-7e6a-45b7-89d6-9da3814f5325",
   "metadata": {},
   "outputs": [
    {
     "data": {
      "text/html": [
       "<div>\n",
       "<style scoped>\n",
       "    .dataframe tbody tr th:only-of-type {\n",
       "        vertical-align: middle;\n",
       "    }\n",
       "\n",
       "    .dataframe tbody tr th {\n",
       "        vertical-align: top;\n",
       "    }\n",
       "\n",
       "    .dataframe thead th {\n",
       "        text-align: right;\n",
       "    }\n",
       "</style>\n",
       "<table border=\"1\" class=\"dataframe\">\n",
       "  <thead>\n",
       "    <tr style=\"text-align: right;\">\n",
       "      <th></th>\n",
       "      <th>Units Sold</th>\n",
       "      <th>Manufacturing Price</th>\n",
       "      <th>Sale Price</th>\n",
       "      <th>Gross Sales</th>\n",
       "      <th>Discounts</th>\n",
       "      <th>Sales</th>\n",
       "      <th>COGS</th>\n",
       "      <th>Profit</th>\n",
       "      <th>Month Number</th>\n",
       "      <th>Year</th>\n",
       "    </tr>\n",
       "  </thead>\n",
       "  <tbody>\n",
       "    <tr>\n",
       "      <th>count</th>\n",
       "      <td>700.000000</td>\n",
       "      <td>700.000000</td>\n",
       "      <td>700.000000</td>\n",
       "      <td>7.000000e+02</td>\n",
       "      <td>700.000000</td>\n",
       "      <td>7.000000e+02</td>\n",
       "      <td>700.000000</td>\n",
       "      <td>700.000000</td>\n",
       "      <td>700.000000</td>\n",
       "      <td>700.000000</td>\n",
       "    </tr>\n",
       "    <tr>\n",
       "      <th>mean</th>\n",
       "      <td>1608.294286</td>\n",
       "      <td>96.477143</td>\n",
       "      <td>118.428571</td>\n",
       "      <td>1.827594e+05</td>\n",
       "      <td>13150.354629</td>\n",
       "      <td>1.696091e+05</td>\n",
       "      <td>145475.211429</td>\n",
       "      <td>24133.860371</td>\n",
       "      <td>7.900000</td>\n",
       "      <td>2013.750000</td>\n",
       "    </tr>\n",
       "    <tr>\n",
       "      <th>std</th>\n",
       "      <td>867.427859</td>\n",
       "      <td>108.602612</td>\n",
       "      <td>136.775515</td>\n",
       "      <td>2.542623e+05</td>\n",
       "      <td>22962.928775</td>\n",
       "      <td>2.367263e+05</td>\n",
       "      <td>203865.506118</td>\n",
       "      <td>42760.626563</td>\n",
       "      <td>3.377321</td>\n",
       "      <td>0.433322</td>\n",
       "    </tr>\n",
       "    <tr>\n",
       "      <th>min</th>\n",
       "      <td>200.000000</td>\n",
       "      <td>3.000000</td>\n",
       "      <td>7.000000</td>\n",
       "      <td>1.799000e+03</td>\n",
       "      <td>0.000000</td>\n",
       "      <td>1.655080e+03</td>\n",
       "      <td>918.000000</td>\n",
       "      <td>-40617.500000</td>\n",
       "      <td>1.000000</td>\n",
       "      <td>2013.000000</td>\n",
       "    </tr>\n",
       "    <tr>\n",
       "      <th>25%</th>\n",
       "      <td>905.000000</td>\n",
       "      <td>5.000000</td>\n",
       "      <td>12.000000</td>\n",
       "      <td>1.739175e+04</td>\n",
       "      <td>800.320000</td>\n",
       "      <td>1.592800e+04</td>\n",
       "      <td>7490.000000</td>\n",
       "      <td>2805.960000</td>\n",
       "      <td>5.750000</td>\n",
       "      <td>2013.750000</td>\n",
       "    </tr>\n",
       "    <tr>\n",
       "      <th>50%</th>\n",
       "      <td>1542.500000</td>\n",
       "      <td>10.000000</td>\n",
       "      <td>20.000000</td>\n",
       "      <td>3.798000e+04</td>\n",
       "      <td>2585.250000</td>\n",
       "      <td>3.554020e+04</td>\n",
       "      <td>22506.250000</td>\n",
       "      <td>9242.200000</td>\n",
       "      <td>9.000000</td>\n",
       "      <td>2014.000000</td>\n",
       "    </tr>\n",
       "    <tr>\n",
       "      <th>75%</th>\n",
       "      <td>2229.125000</td>\n",
       "      <td>250.000000</td>\n",
       "      <td>300.000000</td>\n",
       "      <td>2.790250e+05</td>\n",
       "      <td>15956.343750</td>\n",
       "      <td>2.610775e+05</td>\n",
       "      <td>245607.500000</td>\n",
       "      <td>22662.000000</td>\n",
       "      <td>10.250000</td>\n",
       "      <td>2014.000000</td>\n",
       "    </tr>\n",
       "    <tr>\n",
       "      <th>max</th>\n",
       "      <td>4492.500000</td>\n",
       "      <td>260.000000</td>\n",
       "      <td>350.000000</td>\n",
       "      <td>1.207500e+06</td>\n",
       "      <td>149677.500000</td>\n",
       "      <td>1.159200e+06</td>\n",
       "      <td>950625.000000</td>\n",
       "      <td>262200.000000</td>\n",
       "      <td>12.000000</td>\n",
       "      <td>2014.000000</td>\n",
       "    </tr>\n",
       "  </tbody>\n",
       "</table>\n",
       "</div>"
      ],
      "text/plain": [
       "        Units Sold  Manufacturing Price  Sale Price   Gross Sales  \\\n",
       "count   700.000000           700.000000  700.000000  7.000000e+02   \n",
       "mean   1608.294286            96.477143  118.428571  1.827594e+05   \n",
       "std     867.427859           108.602612  136.775515  2.542623e+05   \n",
       "min     200.000000             3.000000    7.000000  1.799000e+03   \n",
       "25%     905.000000             5.000000   12.000000  1.739175e+04   \n",
       "50%    1542.500000            10.000000   20.000000  3.798000e+04   \n",
       "75%    2229.125000           250.000000  300.000000  2.790250e+05   \n",
       "max    4492.500000           260.000000  350.000000  1.207500e+06   \n",
       "\n",
       "           Discounts         Sales           COGS         Profit  \\\n",
       "count     700.000000  7.000000e+02     700.000000     700.000000   \n",
       "mean    13150.354629  1.696091e+05  145475.211429   24133.860371   \n",
       "std     22962.928775  2.367263e+05  203865.506118   42760.626563   \n",
       "min         0.000000  1.655080e+03     918.000000  -40617.500000   \n",
       "25%       800.320000  1.592800e+04    7490.000000    2805.960000   \n",
       "50%      2585.250000  3.554020e+04   22506.250000    9242.200000   \n",
       "75%     15956.343750  2.610775e+05  245607.500000   22662.000000   \n",
       "max    149677.500000  1.159200e+06  950625.000000  262200.000000   \n",
       "\n",
       "       Month Number         Year  \n",
       "count    700.000000   700.000000  \n",
       "mean       7.900000  2013.750000  \n",
       "std        3.377321     0.433322  \n",
       "min        1.000000  2013.000000  \n",
       "25%        5.750000  2013.750000  \n",
       "50%        9.000000  2014.000000  \n",
       "75%       10.250000  2014.000000  \n",
       "max       12.000000  2014.000000  "
      ]
     },
     "execution_count": 20,
     "metadata": {},
     "output_type": "execute_result"
    }
   ],
   "source": [
    "df.describe()"
   ]
  },
  {
   "cell_type": "code",
   "execution_count": 21,
   "id": "de1ce7b0-3798-431d-8df9-28cc1a0eef60",
   "metadata": {},
   "outputs": [
    {
     "data": {
      "text/plain": [
       "Segment                        object\n",
       "Country                        object\n",
       "Product                        object\n",
       "Discount Band                  object\n",
       "Units Sold                    float64\n",
       "Manufacturing Price             int64\n",
       "Sale Price                      int64\n",
       "Gross Sales                   float64\n",
       "Discounts                     float64\n",
       " Sales                        float64\n",
       "COGS                          float64\n",
       "Profit                        float64\n",
       "Date                   datetime64[ns]\n",
       "Month Number                    int64\n",
       "Month Name                     object\n",
       "Year                            int64\n",
       "dtype: object"
      ]
     },
     "execution_count": 21,
     "metadata": {},
     "output_type": "execute_result"
    }
   ],
   "source": [
    "df.dtypes"
   ]
  },
  {
   "cell_type": "code",
   "execution_count": 22,
   "id": "502c71ce-3927-4783-a777-ca3bf702d95e",
   "metadata": {},
   "outputs": [
    {
     "data": {
      "text/html": [
       "<div>\n",
       "<style scoped>\n",
       "    .dataframe tbody tr th:only-of-type {\n",
       "        vertical-align: middle;\n",
       "    }\n",
       "\n",
       "    .dataframe tbody tr th {\n",
       "        vertical-align: top;\n",
       "    }\n",
       "\n",
       "    .dataframe thead th {\n",
       "        text-align: right;\n",
       "    }\n",
       "</style>\n",
       "<table border=\"1\" class=\"dataframe\">\n",
       "  <thead>\n",
       "    <tr style=\"text-align: right;\">\n",
       "      <th></th>\n",
       "      <th>COGS</th>\n",
       "      <th>Gross Sales</th>\n",
       "      <th>Profit</th>\n",
       "    </tr>\n",
       "  </thead>\n",
       "  <tbody>\n",
       "    <tr>\n",
       "      <th>0</th>\n",
       "      <td>16185.0</td>\n",
       "      <td>32370.0</td>\n",
       "      <td>16185.00</td>\n",
       "    </tr>\n",
       "    <tr>\n",
       "      <th>1</th>\n",
       "      <td>13210.0</td>\n",
       "      <td>26420.0</td>\n",
       "      <td>13210.00</td>\n",
       "    </tr>\n",
       "    <tr>\n",
       "      <th>2</th>\n",
       "      <td>21780.0</td>\n",
       "      <td>32670.0</td>\n",
       "      <td>10890.00</td>\n",
       "    </tr>\n",
       "    <tr>\n",
       "      <th>3</th>\n",
       "      <td>8880.0</td>\n",
       "      <td>13320.0</td>\n",
       "      <td>4440.00</td>\n",
       "    </tr>\n",
       "    <tr>\n",
       "      <th>4</th>\n",
       "      <td>24700.0</td>\n",
       "      <td>37050.0</td>\n",
       "      <td>12350.00</td>\n",
       "    </tr>\n",
       "    <tr>\n",
       "      <th>...</th>\n",
       "      <td>...</td>\n",
       "      <td>...</td>\n",
       "      <td>...</td>\n",
       "    </tr>\n",
       "    <tr>\n",
       "      <th>695</th>\n",
       "      <td>618750.0</td>\n",
       "      <td>742500.0</td>\n",
       "      <td>12375.00</td>\n",
       "    </tr>\n",
       "    <tr>\n",
       "      <th>696</th>\n",
       "      <td>136500.0</td>\n",
       "      <td>163800.0</td>\n",
       "      <td>2730.00</td>\n",
       "    </tr>\n",
       "    <tr>\n",
       "      <th>697</th>\n",
       "      <td>6840.0</td>\n",
       "      <td>9576.0</td>\n",
       "      <td>1299.60</td>\n",
       "    </tr>\n",
       "    <tr>\n",
       "      <th>698</th>\n",
       "      <td>3615.0</td>\n",
       "      <td>5061.0</td>\n",
       "      <td>686.85</td>\n",
       "    </tr>\n",
       "    <tr>\n",
       "      <th>699</th>\n",
       "      <td>5418.0</td>\n",
       "      <td>21672.0</td>\n",
       "      <td>13003.20</td>\n",
       "    </tr>\n",
       "  </tbody>\n",
       "</table>\n",
       "<p>700 rows × 3 columns</p>\n",
       "</div>"
      ],
      "text/plain": [
       "         COGS  Gross Sales    Profit\n",
       "0     16185.0      32370.0  16185.00\n",
       "1     13210.0      26420.0  13210.00\n",
       "2     21780.0      32670.0  10890.00\n",
       "3      8880.0      13320.0   4440.00\n",
       "4     24700.0      37050.0  12350.00\n",
       "..        ...          ...       ...\n",
       "695  618750.0     742500.0  12375.00\n",
       "696  136500.0     163800.0   2730.00\n",
       "697    6840.0       9576.0   1299.60\n",
       "698    3615.0       5061.0    686.85\n",
       "699    5418.0      21672.0  13003.20\n",
       "\n",
       "[700 rows x 3 columns]"
      ]
     },
     "execution_count": 22,
     "metadata": {},
     "output_type": "execute_result"
    }
   ],
   "source": [
    "df[['COGS' , 'Gross Sales' , 'Profit']]"
   ]
  },
  {
   "cell_type": "code",
   "execution_count": 23,
   "id": "d634c314-eb7e-44f2-87ee-28eadaabc804",
   "metadata": {},
   "outputs": [
    {
     "data": {
      "text/html": [
       "<div>\n",
       "<style scoped>\n",
       "    .dataframe tbody tr th:only-of-type {\n",
       "        vertical-align: middle;\n",
       "    }\n",
       "\n",
       "    .dataframe tbody tr th {\n",
       "        vertical-align: top;\n",
       "    }\n",
       "\n",
       "    .dataframe thead th {\n",
       "        text-align: right;\n",
       "    }\n",
       "</style>\n",
       "<table border=\"1\" class=\"dataframe\">\n",
       "  <thead>\n",
       "    <tr style=\"text-align: right;\">\n",
       "      <th></th>\n",
       "      <th>Segment</th>\n",
       "      <th>Country</th>\n",
       "      <th>Product</th>\n",
       "      <th>Discount Band</th>\n",
       "      <th>Units Sold</th>\n",
       "      <th>Manufacturing Price</th>\n",
       "      <th>Sale Price</th>\n",
       "      <th>Gross Sales</th>\n",
       "      <th>Discounts</th>\n",
       "      <th>Sales</th>\n",
       "      <th>COGS</th>\n",
       "      <th>Profit</th>\n",
       "      <th>Date</th>\n",
       "      <th>Month Number</th>\n",
       "      <th>Month Name</th>\n",
       "      <th>Year</th>\n",
       "    </tr>\n",
       "  </thead>\n",
       "  <tbody>\n",
       "    <tr>\n",
       "      <th>0</th>\n",
       "      <td>Government</td>\n",
       "      <td>Canada</td>\n",
       "      <td>Carretera</td>\n",
       "      <td>None</td>\n",
       "      <td>1618.5</td>\n",
       "      <td>3</td>\n",
       "      <td>20</td>\n",
       "      <td>32370.0</td>\n",
       "      <td>0.0</td>\n",
       "      <td>32370.0</td>\n",
       "      <td>16185.0</td>\n",
       "      <td>16185.0</td>\n",
       "      <td>2014-01-01</td>\n",
       "      <td>1</td>\n",
       "      <td>January</td>\n",
       "      <td>2014</td>\n",
       "    </tr>\n",
       "    <tr>\n",
       "      <th>1</th>\n",
       "      <td>Government</td>\n",
       "      <td>Germany</td>\n",
       "      <td>Carretera</td>\n",
       "      <td>None</td>\n",
       "      <td>1321.0</td>\n",
       "      <td>3</td>\n",
       "      <td>20</td>\n",
       "      <td>26420.0</td>\n",
       "      <td>0.0</td>\n",
       "      <td>26420.0</td>\n",
       "      <td>13210.0</td>\n",
       "      <td>13210.0</td>\n",
       "      <td>2014-01-01</td>\n",
       "      <td>1</td>\n",
       "      <td>January</td>\n",
       "      <td>2014</td>\n",
       "    </tr>\n",
       "    <tr>\n",
       "      <th>2</th>\n",
       "      <td>Midmarket</td>\n",
       "      <td>France</td>\n",
       "      <td>Carretera</td>\n",
       "      <td>None</td>\n",
       "      <td>2178.0</td>\n",
       "      <td>3</td>\n",
       "      <td>15</td>\n",
       "      <td>32670.0</td>\n",
       "      <td>0.0</td>\n",
       "      <td>32670.0</td>\n",
       "      <td>21780.0</td>\n",
       "      <td>10890.0</td>\n",
       "      <td>2014-06-01</td>\n",
       "      <td>6</td>\n",
       "      <td>June</td>\n",
       "      <td>2014</td>\n",
       "    </tr>\n",
       "    <tr>\n",
       "      <th>3</th>\n",
       "      <td>Midmarket</td>\n",
       "      <td>Germany</td>\n",
       "      <td>Carretera</td>\n",
       "      <td>None</td>\n",
       "      <td>888.0</td>\n",
       "      <td>3</td>\n",
       "      <td>15</td>\n",
       "      <td>13320.0</td>\n",
       "      <td>0.0</td>\n",
       "      <td>13320.0</td>\n",
       "      <td>8880.0</td>\n",
       "      <td>4440.0</td>\n",
       "      <td>2014-06-01</td>\n",
       "      <td>6</td>\n",
       "      <td>June</td>\n",
       "      <td>2014</td>\n",
       "    </tr>\n",
       "    <tr>\n",
       "      <th>4</th>\n",
       "      <td>Midmarket</td>\n",
       "      <td>Mexico</td>\n",
       "      <td>Carretera</td>\n",
       "      <td>None</td>\n",
       "      <td>2470.0</td>\n",
       "      <td>3</td>\n",
       "      <td>15</td>\n",
       "      <td>37050.0</td>\n",
       "      <td>0.0</td>\n",
       "      <td>37050.0</td>\n",
       "      <td>24700.0</td>\n",
       "      <td>12350.0</td>\n",
       "      <td>2014-06-01</td>\n",
       "      <td>6</td>\n",
       "      <td>June</td>\n",
       "      <td>2014</td>\n",
       "    </tr>\n",
       "  </tbody>\n",
       "</table>\n",
       "</div>"
      ],
      "text/plain": [
       "      Segment  Country    Product Discount Band  Units Sold  \\\n",
       "0  Government   Canada  Carretera          None      1618.5   \n",
       "1  Government  Germany  Carretera          None      1321.0   \n",
       "2   Midmarket   France  Carretera          None      2178.0   \n",
       "3   Midmarket  Germany  Carretera          None       888.0   \n",
       "4   Midmarket   Mexico  Carretera          None      2470.0   \n",
       "\n",
       "   Manufacturing Price  Sale Price  Gross Sales  Discounts    Sales     COGS  \\\n",
       "0                    3          20      32370.0        0.0  32370.0  16185.0   \n",
       "1                    3          20      26420.0        0.0  26420.0  13210.0   \n",
       "2                    3          15      32670.0        0.0  32670.0  21780.0   \n",
       "3                    3          15      13320.0        0.0  13320.0   8880.0   \n",
       "4                    3          15      37050.0        0.0  37050.0  24700.0   \n",
       "\n",
       "    Profit       Date  Month Number Month Name  Year  \n",
       "0  16185.0 2014-01-01             1    January  2014  \n",
       "1  13210.0 2014-01-01             1    January  2014  \n",
       "2  10890.0 2014-06-01             6       June  2014  \n",
       "3   4440.0 2014-06-01             6       June  2014  \n",
       "4  12350.0 2014-06-01             6       June  2014  "
      ]
     },
     "execution_count": 23,
     "metadata": {},
     "output_type": "execute_result"
    }
   ],
   "source": [
    "df.head()"
   ]
  },
  {
   "cell_type": "code",
   "execution_count": 24,
   "id": "51650dfe-55d8-478f-81dc-b5c1d478ac10",
   "metadata": {},
   "outputs": [
    {
     "data": {
      "text/html": [
       "<div>\n",
       "<style scoped>\n",
       "    .dataframe tbody tr th:only-of-type {\n",
       "        vertical-align: middle;\n",
       "    }\n",
       "\n",
       "    .dataframe tbody tr th {\n",
       "        vertical-align: top;\n",
       "    }\n",
       "\n",
       "    .dataframe thead th {\n",
       "        text-align: right;\n",
       "    }\n",
       "</style>\n",
       "<table border=\"1\" class=\"dataframe\">\n",
       "  <thead>\n",
       "    <tr style=\"text-align: right;\">\n",
       "      <th></th>\n",
       "      <th>Segment</th>\n",
       "      <th>Country</th>\n",
       "      <th>Product</th>\n",
       "      <th>Discount Band</th>\n",
       "      <th>Units Sold</th>\n",
       "      <th>Manufacturing Price</th>\n",
       "      <th>Sale Price</th>\n",
       "      <th>Gross Sales</th>\n",
       "      <th>Discounts</th>\n",
       "      <th>Sales</th>\n",
       "      <th>COGS</th>\n",
       "      <th>Profit</th>\n",
       "      <th>Date</th>\n",
       "      <th>Month Number</th>\n",
       "      <th>Month Name</th>\n",
       "      <th>Year</th>\n",
       "    </tr>\n",
       "  </thead>\n",
       "  <tbody>\n",
       "    <tr>\n",
       "      <th>695</th>\n",
       "      <td>Small Business</td>\n",
       "      <td>France</td>\n",
       "      <td>Amarilla</td>\n",
       "      <td>High</td>\n",
       "      <td>2475.0</td>\n",
       "      <td>260</td>\n",
       "      <td>300</td>\n",
       "      <td>742500.0</td>\n",
       "      <td>111375.00</td>\n",
       "      <td>631125.00</td>\n",
       "      <td>618750.0</td>\n",
       "      <td>12375.00</td>\n",
       "      <td>2014-03-01</td>\n",
       "      <td>3</td>\n",
       "      <td>March</td>\n",
       "      <td>2014</td>\n",
       "    </tr>\n",
       "    <tr>\n",
       "      <th>696</th>\n",
       "      <td>Small Business</td>\n",
       "      <td>Mexico</td>\n",
       "      <td>Amarilla</td>\n",
       "      <td>High</td>\n",
       "      <td>546.0</td>\n",
       "      <td>260</td>\n",
       "      <td>300</td>\n",
       "      <td>163800.0</td>\n",
       "      <td>24570.00</td>\n",
       "      <td>139230.00</td>\n",
       "      <td>136500.0</td>\n",
       "      <td>2730.00</td>\n",
       "      <td>2014-10-01</td>\n",
       "      <td>10</td>\n",
       "      <td>October</td>\n",
       "      <td>2014</td>\n",
       "    </tr>\n",
       "    <tr>\n",
       "      <th>697</th>\n",
       "      <td>Government</td>\n",
       "      <td>Mexico</td>\n",
       "      <td>Montana</td>\n",
       "      <td>High</td>\n",
       "      <td>1368.0</td>\n",
       "      <td>5</td>\n",
       "      <td>7</td>\n",
       "      <td>9576.0</td>\n",
       "      <td>1436.40</td>\n",
       "      <td>8139.60</td>\n",
       "      <td>6840.0</td>\n",
       "      <td>1299.60</td>\n",
       "      <td>2014-02-01</td>\n",
       "      <td>2</td>\n",
       "      <td>February</td>\n",
       "      <td>2014</td>\n",
       "    </tr>\n",
       "    <tr>\n",
       "      <th>698</th>\n",
       "      <td>Government</td>\n",
       "      <td>Canada</td>\n",
       "      <td>Paseo</td>\n",
       "      <td>High</td>\n",
       "      <td>723.0</td>\n",
       "      <td>10</td>\n",
       "      <td>7</td>\n",
       "      <td>5061.0</td>\n",
       "      <td>759.15</td>\n",
       "      <td>4301.85</td>\n",
       "      <td>3615.0</td>\n",
       "      <td>686.85</td>\n",
       "      <td>2014-04-01</td>\n",
       "      <td>4</td>\n",
       "      <td>April</td>\n",
       "      <td>2014</td>\n",
       "    </tr>\n",
       "    <tr>\n",
       "      <th>699</th>\n",
       "      <td>Channel Partners</td>\n",
       "      <td>United States of America</td>\n",
       "      <td>VTT</td>\n",
       "      <td>High</td>\n",
       "      <td>1806.0</td>\n",
       "      <td>250</td>\n",
       "      <td>12</td>\n",
       "      <td>21672.0</td>\n",
       "      <td>3250.80</td>\n",
       "      <td>18421.20</td>\n",
       "      <td>5418.0</td>\n",
       "      <td>13003.20</td>\n",
       "      <td>2014-05-01</td>\n",
       "      <td>5</td>\n",
       "      <td>May</td>\n",
       "      <td>2014</td>\n",
       "    </tr>\n",
       "  </tbody>\n",
       "</table>\n",
       "</div>"
      ],
      "text/plain": [
       "              Segment                   Country   Product Discount Band  \\\n",
       "695    Small Business                    France  Amarilla          High   \n",
       "696    Small Business                    Mexico  Amarilla          High   \n",
       "697        Government                    Mexico   Montana          High   \n",
       "698        Government                    Canada     Paseo          High   \n",
       "699  Channel Partners  United States of America       VTT          High   \n",
       "\n",
       "     Units Sold  Manufacturing Price  Sale Price  Gross Sales  Discounts  \\\n",
       "695      2475.0                  260         300     742500.0  111375.00   \n",
       "696       546.0                  260         300     163800.0   24570.00   \n",
       "697      1368.0                    5           7       9576.0    1436.40   \n",
       "698       723.0                   10           7       5061.0     759.15   \n",
       "699      1806.0                  250          12      21672.0    3250.80   \n",
       "\n",
       "         Sales      COGS    Profit       Date  Month Number Month Name  Year  \n",
       "695  631125.00  618750.0  12375.00 2014-03-01             3      March  2014  \n",
       "696  139230.00  136500.0   2730.00 2014-10-01            10    October  2014  \n",
       "697    8139.60    6840.0   1299.60 2014-02-01             2   February  2014  \n",
       "698    4301.85    3615.0    686.85 2014-04-01             4      April  2014  \n",
       "699   18421.20    5418.0  13003.20 2014-05-01             5        May  2014  "
      ]
     },
     "execution_count": 24,
     "metadata": {},
     "output_type": "execute_result"
    }
   ],
   "source": [
    "df.tail()"
   ]
  },
  {
   "cell_type": "markdown",
   "id": "be3016a7-86c8-4c7c-bb60-b031ff71f47d",
   "metadata": {},
   "source": [
    "From the above the examples shows that DataFrame functions useages ."
   ]
  },
  {
   "cell_type": "markdown",
   "id": "e9119344-08d5-467f-854c-80c66fcbd1a5",
   "metadata": {},
   "source": [
    "Q6. Which of the following is mutable in nature Series, DataFrame, Panel ?"
   ]
  },
  {
   "cell_type": "markdown",
   "id": "93326e22-ab94-42f3-9629-3ea283118783",
   "metadata": {},
   "source": [
    "ANSWER :-\n",
    "* Series \n",
    "* DataFrame "
   ]
  },
  {
   "cell_type": "markdown",
   "id": "f4e321dc-9577-4a46-9cc1-17636185a0f5",
   "metadata": {},
   "source": [
    "Q7. Create a DataFrame using multiple Series. Explain with an example."
   ]
  },
  {
   "cell_type": "code",
   "execution_count": 25,
   "id": "cdb3bef7-9f24-4ffd-9cbf-44420603b98f",
   "metadata": {},
   "outputs": [],
   "source": [
    "series1 = pd.Series([1,2,3] , name='Column1')\n",
    "series2 = pd.Series(['A','B','C'] , name='Column2')\n",
    "series3 = pd.Series([242.33,47.93,682.34] , name='Column3')"
   ]
  },
  {
   "cell_type": "code",
   "execution_count": 26,
   "id": "43006446-77c6-4449-a2c0-0be9d28496d1",
   "metadata": {},
   "outputs": [],
   "source": [
    "df = pd.DataFrame({series1.name : series1 , series2.name : series2 , series3.name : series3}) "
   ]
  },
  {
   "cell_type": "code",
   "execution_count": 27,
   "id": "48689f40-8c15-46df-8dbd-6ad52b360517",
   "metadata": {},
   "outputs": [
    {
     "name": "stdout",
     "output_type": "stream",
     "text": [
      "   Column1 Column2  Column3\n",
      "0        1       A   242.33\n",
      "1        2       B    47.93\n",
      "2        3       C   682.34\n"
     ]
    }
   ],
   "source": [
    "print(df)"
   ]
  },
  {
   "cell_type": "code",
   "execution_count": null,
   "id": "b85e60cd-11eb-40b5-8851-cad57c6a2884",
   "metadata": {},
   "outputs": [],
   "source": []
  }
 ],
 "metadata": {
  "kernelspec": {
   "display_name": "Python 3 (ipykernel)",
   "language": "python",
   "name": "python3"
  },
  "language_info": {
   "codemirror_mode": {
    "name": "ipython",
    "version": 3
   },
   "file_extension": ".py",
   "mimetype": "text/x-python",
   "name": "python",
   "nbconvert_exporter": "python",
   "pygments_lexer": "ipython3",
   "version": "3.10.8"
  }
 },
 "nbformat": 4,
 "nbformat_minor": 5
}
